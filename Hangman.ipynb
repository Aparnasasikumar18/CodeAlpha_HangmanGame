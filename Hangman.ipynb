{
  "nbformat": 4,
  "nbformat_minor": 0,
  "metadata": {
    "colab": {
      "provenance": []
    },
    "kernelspec": {
      "name": "python3",
      "display_name": "Python 3"
    },
    "language_info": {
      "name": "python"
    }
  },
  "cells": [
    {
      "cell_type": "code",
      "execution_count": 9,
      "metadata": {
        "id": "5kFpj2rVFyEm"
      },
      "outputs": [],
      "source": [
        "# 🎮 Hangman Game - Python Project"
      ]
    },
    {
      "cell_type": "code",
      "source": [
        "import random\n"
      ],
      "metadata": {
        "id": "XtltLBUNGrV_"
      },
      "execution_count": 10,
      "outputs": []
    },
    {
      "cell_type": "code",
      "source": [
        "# Predefined list of words\n",
        "words = ['apple', 'banana', 'grapes', 'orange', 'mango']\n",
        "word = random.choice(words)  # Randomly pick one word\n",
        "\n",
        "# Initialize variables\n",
        "guessed_letters = []\n",
        "attempts = 6\n",
        "display_word = ['_'] * len(word)\n"
      ],
      "metadata": {
        "id": "eO4FOMPSGtNP"
      },
      "execution_count": 11,
      "outputs": []
    },
    {
      "cell_type": "code",
      "source": [
        "print(\"Welcome to Hangman!\")\n",
        "print(\"Guess the word, one letter at a time.\")\n",
        "print(\"You have\", attempts, \"wrong guesses allowed.\")\n",
        "print(\" \".join(display_word))\n"
      ],
      "metadata": {
        "colab": {
          "base_uri": "https://localhost:8080/"
        },
        "id": "G6R2OiWpG1rY",
        "outputId": "6d3c5d44-caa7-4b51-8323-a6f3a881bbcc"
      },
      "execution_count": 12,
      "outputs": [
        {
          "output_type": "stream",
          "name": "stdout",
          "text": [
            "Welcome to Hangman!\n",
            "Guess the word, one letter at a time.\n",
            "You have 6 wrong guesses allowed.\n",
            "_ _ _ _ _\n"
          ]
        }
      ]
    },
    {
      "cell_type": "code",
      "source": [
        "while attempts > 0 and '_' in display_word:\n",
        "    guess = input(\"Enter a letter: \").lower()\n",
        "\n",
        "    if not guess.isalpha() or len(guess) != 1:\n",
        "        print(\"Please enter a single letter.\")\n",
        "        continue\n",
        "\n",
        "    if guess in guessed_letters:\n",
        "        print(\"You already guessed that letter.\")\n",
        "        continue\n",
        "\n",
        "    guessed_letters.append(guess)\n",
        "\n",
        "    if guess in word:\n",
        "        for idx, letter in enumerate(word):\n",
        "            if letter == guess:\n",
        "                display_word[idx] = guess\n",
        "        print(\"Good guess!\")\n",
        "    else:\n",
        "        attempts -= 1\n",
        "        print(\"Wrong guess. Attempts left:\", attempts)\n",
        "\n",
        "    print(\" \".join(display_word))\n"
      ],
      "metadata": {
        "colab": {
          "base_uri": "https://localhost:8080/"
        },
        "id": "5AVpdPwBG6e6",
        "outputId": "5dacc633-ddf6-4ceb-f250-6fa19f15b082"
      },
      "execution_count": 13,
      "outputs": [
        {
          "output_type": "stream",
          "name": "stdout",
          "text": [
            "Enter a letter: o\n",
            "Wrong guess. Attempts left: 5\n",
            "_ _ _ _ _\n",
            "Enter a letter: b\n",
            "Wrong guess. Attempts left: 4\n",
            "_ _ _ _ _\n",
            "Enter a letter: a\n",
            "Good guess!\n",
            "a _ _ _ _\n",
            "Enter a letter: p\n",
            "Good guess!\n",
            "a p p _ _\n",
            "Enter a letter: p\n",
            "You already guessed that letter.\n",
            "Enter a letter: l\n",
            "Good guess!\n",
            "a p p l _\n",
            "Enter a letter: e\n",
            "Good guess!\n",
            "a p p l e\n"
          ]
        }
      ]
    },
    {
      "cell_type": "code",
      "source": [
        "if '_' not in display_word:\n",
        "    print(\"🎉 Congratulations! You guessed the word:\", word)\n",
        "else:\n",
        "    print(\"😢 Game Over! The word was:\", word)\n"
      ],
      "metadata": {
        "colab": {
          "base_uri": "https://localhost:8080/"
        },
        "id": "dGEOfWTZI2h5",
        "outputId": "26212fba-260a-4a7e-916f-58e3af7c16de"
      },
      "execution_count": 14,
      "outputs": [
        {
          "output_type": "stream",
          "name": "stdout",
          "text": [
            "🎉 Congratulations! You guessed the word: apple\n"
          ]
        }
      ]
    }
  ]
}